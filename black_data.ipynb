{
 "cells": [
  {
   "cell_type": "code",
   "execution_count": null,
   "metadata": {},
   "outputs": [],
   "source": [
    "import os\n",
    "import numpy as np\n",
    "import matplotlib.pyplot as plt\n",
    "from matplotlib.pyplot import imshow\n",
    "from PIL import Image\n",
    "import re\n",
    "\n",
    "\n",
    "def black_data(data, dia):\n",
    "    negro = [0, 0, 0]\n",
    "\n",
    "    colored_image = np.zeros((data.shape[0], data.shape[1], 3), dtype=np.uint8) + 255 \n",
    "    \n",
    "    if dia == 1:\n",
    "        mask = (-1 < data) & (data < 24)\n",
    "    elif dia == 2:\n",
    "        mask = (-1 < data) & (data < 48)\n",
    "    elif dia == 3:\n",
    "         mask = (-1 < data) & (data < 72)\n",
    "    \n",
    "    colored_image[mask] = negro\n",
    "    \n",
    "    return colored_image\n",
    "\n",
    "\n",
    "def find_toa_files(directory, ignore_folder):\n",
    "    toa_files = []\n",
    "    for root, dirs, files in os.walk(directory):\n",
    "        # Ignora la carpeta específica modificando 'dirs'\n",
    "        dirs[:] = [d for d in dirs if d not in ignore_folder]\n",
    "        for file in files:\n",
    "            if file.endswith('.toa'):\n",
    "                relative_path = os.path.relpath(os.path.join(root, file), start=directory)\n",
    "                toa_files.append(relative_path)\n",
    "    return toa_files\n",
    "\n",
    "\n",
    "def extract_numbers_from_path(path):\n",
    "    # Regex que busca dos grupos de dígitos separados por un guión bajo, seguidos de '_30m'\n",
    "    match = re.search(r'(\\d+_\\d+)_30m', path)\n",
    "    if match:\n",
    "        return match.group(1)  # Devuelve solo la parte del patrón que coincide con 'XX_YY'\n",
    "    return None"
   ]
  },
  {
   "cell_type": "code",
   "execution_count": null,
   "metadata": {},
   "outputs": [],
   "source": [
    "nuevo_directorio = path\n",
    "\n",
    "all_toa_files = find_toa_files(nuevo_directorio)\n",
    "\n",
    "dias = [1,2,3]"
   ]
  },
  {
   "cell_type": "code",
   "execution_count": null,
   "metadata": {},
   "outputs": [],
   "source": [
    "\n",
    "# Aplicar la función para obtener la imagen coloreada\n",
    "for data in all_toa_files:\n",
    "    for dia in dias:\n",
    "\n",
    "        data_np = np.loadtxt(data, skiprows=6).reshape((1125, 1612))\n",
    "\n",
    "        colored_image = black_data(data_np, dia)\n",
    "\n",
    "        # Mostrar la imagen\n",
    "        plt.figure(figsize=(10, 6))\n",
    "        plt.imshow(colored_image, interpolation='nearest')\n",
    "        plt.axis('off')  # Ocultar los ejes\n",
    "        plt.show()\n",
    "\n",
    "        # Convertir a objeto de imagen de Pillow\n",
    "        img = Image.fromarray(colored_image)\n",
    "\n",
    "        # Guardar la imagen sin perder calidad\n",
    "        img.save('Incendio_'+str(extract_numbers_from_path(data))+\"_dia_\"+str(dia)+'.png', format='PNG')\n"
   ]
  }
 ],
 "metadata": {
  "kernelspec": {
   "display_name": "Topo",
   "language": "python",
   "name": "python3"
  },
  "language_info": {
   "codemirror_mode": {
    "name": "ipython",
    "version": 3
   },
   "file_extension": ".py",
   "mimetype": "text/x-python",
   "name": "python",
   "nbconvert_exporter": "python",
   "pygments_lexer": "ipython3",
   "version": "3.10.14"
  }
 },
 "nbformat": 4,
 "nbformat_minor": 2
}
