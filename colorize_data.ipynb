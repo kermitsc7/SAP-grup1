{
 "cells": [
  {
   "cell_type": "code",
   "execution_count": null,
   "metadata": {},
   "outputs": [],
   "source": [
    "import os\n",
    "import numpy as np\n",
    "import matplotlib.pyplot as plt\n",
    "from matplotlib.pyplot import imshow\n",
    "from PIL import Image\n",
    "\n",
    "\n",
    "# Definir una función para asignar colores según el rango de valores\n",
    "def colorize_data(data):\n",
    "    rojo = [255, 105, 97]\n",
    "    verde = [189, 236, 182]\n",
    "    azul = [128, 206, 225]\n",
    "    \n",
    "\n",
    "    colored_image = np.zeros((data.shape[0], data.shape[1], 3), dtype=np.uint8) + 255  # Empezamos con todo blanco\n",
    "    \n",
    "    dia_1 = (-1 < data) & (data < 24)\n",
    "    dia_2 = (data >= 24) & (data < 48)\n",
    "    dia_3 = (data >= 48) & (data < 72)\n",
    "    \n",
    "    colored_image[dia_1] = rojo\n",
    "    colored_image[dia_2] = azul\n",
    "    colored_image[dia_3] = verde\n",
    "    \n",
    "    return colored_image"
   ]
  },
  {
   "cell_type": "code",
   "execution_count": null,
   "metadata": {},
   "outputs": [],
   "source": [
    "nuevo_directorio = path\n",
    "\n",
    "data = np.loadtxt(file_path, skiprows=6).reshape((1125, 1612))"
   ]
  },
  {
   "cell_type": "code",
   "execution_count": null,
   "metadata": {},
   "outputs": [],
   "source": [
    "# Aplicar la función para obtener la imagen coloreada\n",
    "colored_image = colorize_data(data)\n",
    "\n",
    "# Mostrar la imagen\n",
    "plt.figure(figsize=(10, 6))\n",
    "plt.imshow(colored_image, interpolation='nearest')\n",
    "plt.title('Imagen de los dias de incendio')\n",
    "plt.axis('off')  # Ocultar los ejes\n",
    "plt.show()\n"
   ]
  },
  {
   "cell_type": "code",
   "execution_count": null,
   "metadata": {},
   "outputs": [],
   "source": [
    "# Convertir a objeto de imagen de Pillow\n",
    "img = Image.fromarray(colored_image)\n",
    "\n",
    "# Guardar la imagen sin perder calidad\n",
    "img.save('Indecndio.png', format='PNG')"
   ]
  }
 ],
 "metadata": {
  "kernelspec": {
   "display_name": "Topo",
   "language": "python",
   "name": "python3"
  },
  "language_info": {
   "codemirror_mode": {
    "name": "ipython",
    "version": 3
   },
   "file_extension": ".py",
   "mimetype": "text/x-python",
   "name": "python",
   "nbconvert_exporter": "python",
   "pygments_lexer": "ipython3",
   "version": "3.10.14"
  }
 },
 "nbformat": 4,
 "nbformat_minor": 2
}
