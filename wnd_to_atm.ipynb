{
 "cells": [
  {
   "cell_type": "code",
   "execution_count": null,
   "metadata": {},
   "outputs": [],
   "source": [
    "import os\n",
    "import re\n",
    "\n",
    "def listar_carpetas_con_prefijo(directorio, prefijo):\n",
    "    # Listar todos los directorios y archivos en el directorio dado\n",
    "    entradas = os.listdir(directorio)\n",
    "    \n",
    "    # Filtrar para obtener solo directorios que empiezan con el prefijo especificado\n",
    "    carpetas = [entrada for entrada in entradas if entrada.startswith(prefijo) and os.path.isdir(os.path.join(directorio, entrada))]\n",
    "    \n",
    "    return carpetas\n",
    "\n",
    "\n",
    "def encontrar_y_abrir_archivo(directorio, extension, vel, ang):\n",
    "    # Listar todos los archivos en el directorio dado\n",
    "    archivos = os.listdir(directorio)\n",
    "\n",
    "    # Buscar un archivo que termine con la extensión especificada\n",
    "    for archivo in archivos:\n",
    "        if archivo.endswith(extension):\n",
    "            archivo_path = os.path.join(directorio, archivo)\n",
    "            print(f\"Abriendo el archivo: {archivo_path}\")\n",
    "\n",
    "            # Vaciar el archivo abriéndolo en modo de escritura\n",
    "            with open(archivo_path, 'w') as file:\n",
    "                pass  # Al abrir en modo 'w', el archivo se vacía automáticamente\n",
    "\n",
    "            final_file = archivo_path\n",
    "\n",
    "            str_add_1 = \"/home/wrf-chem/Desktop/FARSITE4/CASE_Jonquera/Input/GIS_themes/Output_\"+str(vel)+\"v_\"+str(ang)+\"/Jonquera2_\"+str(ang)+\"_\"+str(vel)+\"_30m_vel.asc\"\n",
    "            str_add_2 = \"/home/wrf-chem/Desktop/FARSITE4/CASE_Jonquera/Input/GIS_themes/Output_\"+str(vel)+\"v_\"+str(ang)+\"/Jonquera2_\"+str(ang)+\"_\"+str(vel)+\"_30m_ang.asc\"\n",
    "            str_add_3 = \"/home/wrf-chem/Desktop/FARSITE4/CASE_Jonquera/Input/GIS_themes/Output_\"+str(vel)+\"v_\"+str(ang)+\"/Jonquera2_\"+str(ang)+\"_\"+str(vel)+\"_30m_cld.asc\"\n",
    "            fichero = open('C:/Users/alber/OneDrive\\Desktop/MatCAD/4t Curso/2n semestre/Simulació d\\'Altes Prestacions/Trabajo de verdad/jonquera.wnd')\n",
    "            with open(final_file, 'a') as the_file:\n",
    "                for linea in fichero.readlines():\n",
    "                    new_line = linea[0:9]\n",
    "                    new_line = new_line + ' ' + str_add_1 + ' ' + str_add_2 + ' ' + str_add_3\n",
    "                    the_file.write(new_line+'\\n')\n",
    "\n",
    "                with open(final_file, 'r') as original_file:\n",
    "                    lines = original_file.readlines()[2:]\n",
    "\n",
    "                # Agregar las nuevas líneas al principio\n",
    "                new_lines = [\"WINDS_AND_CLOUDS\\n\", \"ENGLISH\\n\"]\n",
    "                lines = new_lines + lines\n",
    "\n",
    "                for linia in lines:\n",
    "                    print(linia)\n",
    "\n",
    "                with open(final_file, 'w') as new_file:\n",
    "                    new_file.writelines(lines)\n",
    "                            "
   ]
  },
  {
   "cell_type": "code",
   "execution_count": null,
   "metadata": {},
   "outputs": [],
   "source": [
    "nuevo_directorio = path\n",
    "\n",
    "lista_carpetas = listar_carpetas_con_prefijo(nuevo_directorio, \"Output\")"
   ]
  },
  {
   "cell_type": "code",
   "execution_count": null,
   "metadata": {},
   "outputs": [],
   "source": [
    "for carpeta in lista_carpetas:\n",
    "    path = nuevo_directorio+\"/\"+carpeta\n",
    "    numeros = re.findall(r'_(\\d+)', carpeta)\n",
    "\n",
    "    encontrar_y_abrir_archivo(path, \".atm\", numeros[0], numeros[1])"
   ]
  }
 ],
 "metadata": {
  "kernelspec": {
   "display_name": "UMAP",
   "language": "python",
   "name": "python3"
  },
  "language_info": {
   "codemirror_mode": {
    "name": "ipython",
    "version": 3
   },
   "file_extension": ".py",
   "mimetype": "text/x-python",
   "name": "python",
   "nbconvert_exporter": "python",
   "pygments_lexer": "ipython3",
   "version": "3.10.14"
  }
 },
 "nbformat": 4,
 "nbformat_minor": 2
}
